{
 "cells": [
  {
   "cell_type": "code",
   "execution_count": 1,
   "metadata": {},
   "outputs": [],
   "source": [
    "#data preprocessing\n",
    "import pandas as pd\n",
    "#produces a prediction model in the form of an ensemble of weak prediction models, typically decision tree\n",
    "\n",
    "\n",
    "from IPython.display import display\n",
    "%matplotlib inline"
   ]
  },
  {
   "cell_type": "code",
   "execution_count": 2,
   "metadata": {},
   "outputs": [],
   "source": [
    "import os\n",
    "\n",
    "data_dir=\"/mnt/e/GIT_ROOT/CodeChallenge/data\"\n",
    "output_file = os.path.join(data_dir, \"dataframe.pkl\")"
   ]
  },
  {
   "cell_type": "code",
   "execution_count": 3,
   "metadata": {},
   "outputs": [
    {
     "data": {
      "text/html": [
       "<div>\n",
       "<style scoped>\n",
       "    .dataframe tbody tr th:only-of-type {\n",
       "        vertical-align: middle;\n",
       "    }\n",
       "\n",
       "    .dataframe tbody tr th {\n",
       "        vertical-align: top;\n",
       "    }\n",
       "\n",
       "    .dataframe thead th {\n",
       "        text-align: right;\n",
       "    }\n",
       "</style>\n",
       "<table border=\"1\" class=\"dataframe\">\n",
       "  <thead>\n",
       "    <tr style=\"text-align: right;\">\n",
       "      <th></th>\n",
       "      <th>A1_Score</th>\n",
       "      <th>A2_Score</th>\n",
       "      <th>A3_Score</th>\n",
       "      <th>A4_Score</th>\n",
       "      <th>A5_Score</th>\n",
       "      <th>A6_Score</th>\n",
       "      <th>A7_Score</th>\n",
       "      <th>A8_Score</th>\n",
       "      <th>A9_Score</th>\n",
       "      <th>A10_Score</th>\n",
       "      <th>...</th>\n",
       "      <th>gender</th>\n",
       "      <th>ethnicity</th>\n",
       "      <th>jundice</th>\n",
       "      <th>austim</th>\n",
       "      <th>contry_of_res</th>\n",
       "      <th>used_app_before</th>\n",
       "      <th>result</th>\n",
       "      <th>age_desc</th>\n",
       "      <th>relation</th>\n",
       "      <th>ASD</th>\n",
       "    </tr>\n",
       "  </thead>\n",
       "  <tbody>\n",
       "    <tr>\n",
       "      <th>0</th>\n",
       "      <td>1</td>\n",
       "      <td>1</td>\n",
       "      <td>1</td>\n",
       "      <td>1</td>\n",
       "      <td>0</td>\n",
       "      <td>0</td>\n",
       "      <td>1</td>\n",
       "      <td>1</td>\n",
       "      <td>0</td>\n",
       "      <td>0</td>\n",
       "      <td>...</td>\n",
       "      <td>f</td>\n",
       "      <td>White-European</td>\n",
       "      <td>no</td>\n",
       "      <td>no</td>\n",
       "      <td>'United States'</td>\n",
       "      <td>no</td>\n",
       "      <td>6</td>\n",
       "      <td>'18 and more'</td>\n",
       "      <td>Self</td>\n",
       "      <td>NO</td>\n",
       "    </tr>\n",
       "    <tr>\n",
       "      <th>1</th>\n",
       "      <td>1</td>\n",
       "      <td>1</td>\n",
       "      <td>0</td>\n",
       "      <td>1</td>\n",
       "      <td>0</td>\n",
       "      <td>0</td>\n",
       "      <td>0</td>\n",
       "      <td>1</td>\n",
       "      <td>0</td>\n",
       "      <td>1</td>\n",
       "      <td>...</td>\n",
       "      <td>m</td>\n",
       "      <td>Latino</td>\n",
       "      <td>no</td>\n",
       "      <td>yes</td>\n",
       "      <td>Brazil</td>\n",
       "      <td>no</td>\n",
       "      <td>5</td>\n",
       "      <td>'18 and more'</td>\n",
       "      <td>Self</td>\n",
       "      <td>NO</td>\n",
       "    </tr>\n",
       "    <tr>\n",
       "      <th>2</th>\n",
       "      <td>1</td>\n",
       "      <td>1</td>\n",
       "      <td>0</td>\n",
       "      <td>1</td>\n",
       "      <td>1</td>\n",
       "      <td>0</td>\n",
       "      <td>1</td>\n",
       "      <td>1</td>\n",
       "      <td>1</td>\n",
       "      <td>1</td>\n",
       "      <td>...</td>\n",
       "      <td>m</td>\n",
       "      <td>Latino</td>\n",
       "      <td>yes</td>\n",
       "      <td>yes</td>\n",
       "      <td>Spain</td>\n",
       "      <td>no</td>\n",
       "      <td>8</td>\n",
       "      <td>'18 and more'</td>\n",
       "      <td>Parent</td>\n",
       "      <td>YES</td>\n",
       "    </tr>\n",
       "    <tr>\n",
       "      <th>3</th>\n",
       "      <td>1</td>\n",
       "      <td>1</td>\n",
       "      <td>0</td>\n",
       "      <td>1</td>\n",
       "      <td>0</td>\n",
       "      <td>0</td>\n",
       "      <td>1</td>\n",
       "      <td>1</td>\n",
       "      <td>0</td>\n",
       "      <td>1</td>\n",
       "      <td>...</td>\n",
       "      <td>f</td>\n",
       "      <td>White-European</td>\n",
       "      <td>no</td>\n",
       "      <td>yes</td>\n",
       "      <td>'United States'</td>\n",
       "      <td>no</td>\n",
       "      <td>6</td>\n",
       "      <td>'18 and more'</td>\n",
       "      <td>Self</td>\n",
       "      <td>NO</td>\n",
       "    </tr>\n",
       "    <tr>\n",
       "      <th>4</th>\n",
       "      <td>1</td>\n",
       "      <td>0</td>\n",
       "      <td>0</td>\n",
       "      <td>0</td>\n",
       "      <td>0</td>\n",
       "      <td>0</td>\n",
       "      <td>0</td>\n",
       "      <td>1</td>\n",
       "      <td>0</td>\n",
       "      <td>0</td>\n",
       "      <td>...</td>\n",
       "      <td>f</td>\n",
       "      <td>?</td>\n",
       "      <td>no</td>\n",
       "      <td>no</td>\n",
       "      <td>Egypt</td>\n",
       "      <td>no</td>\n",
       "      <td>2</td>\n",
       "      <td>'18 and more'</td>\n",
       "      <td>?</td>\n",
       "      <td>NO</td>\n",
       "    </tr>\n",
       "  </tbody>\n",
       "</table>\n",
       "<p>5 rows × 21 columns</p>\n",
       "</div>"
      ],
      "text/plain": [
       "   A1_Score  A2_Score  A3_Score  A4_Score  A5_Score  A6_Score  A7_Score  \\\n",
       "0         1         1         1         1         0         0         1   \n",
       "1         1         1         0         1         0         0         0   \n",
       "2         1         1         0         1         1         0         1   \n",
       "3         1         1         0         1         0         0         1   \n",
       "4         1         0         0         0         0         0         0   \n",
       "\n",
       "   A8_Score  A9_Score  A10_Score ...  gender       ethnicity jundice austim  \\\n",
       "0         1         0          0 ...       f  White-European      no     no   \n",
       "1         1         0          1 ...       m          Latino      no    yes   \n",
       "2         1         1          1 ...       m          Latino     yes    yes   \n",
       "3         1         0          1 ...       f  White-European      no    yes   \n",
       "4         1         0          0 ...       f               ?      no     no   \n",
       "\n",
       "     contry_of_res used_app_before result       age_desc relation  ASD  \n",
       "0  'United States'              no      6  '18 and more'     Self   NO  \n",
       "1           Brazil              no      5  '18 and more'     Self   NO  \n",
       "2            Spain              no      8  '18 and more'   Parent  YES  \n",
       "3  'United States'              no      6  '18 and more'     Self   NO  \n",
       "4            Egypt              no      2  '18 and more'        ?   NO  \n",
       "\n",
       "[5 rows x 21 columns]"
      ]
     },
     "metadata": {},
     "output_type": "display_data"
    }
   ],
   "source": [
    "dataframe_all = pd.read_csv('/mnt/e/GIT_ROOT/CodeChallenge/data/Autism-Adult-Data.csv')\n",
    "\n",
    "# Preview data.\n",
    "display(dataframe_all.head())\n"
   ]
  },
  {
   "cell_type": "code",
   "execution_count": 5,
   "metadata": {},
   "outputs": [
    {
     "name": "stdout",
     "output_type": "stream",
     "text": [
      "Total number of cases: 704\n",
      "Number of features: 20\n",
      "Index([u'A1_Score', u'A2_Score', u'A3_Score', u'A4_Score', u'A5_Score',\n",
      "       u'A6_Score', u'A7_Score', u'A8_Score', u'A9_Score', u'A10_Score',\n",
      "       u'age', u'gender', u'ethnicity', u'jundice', u'austim',\n",
      "       u'contry_of_res', u'used_app_before', u'result', u'age_desc',\n",
      "       u'relation', u'ASD'],\n",
      "      dtype='object')\n"
     ]
    }
   ],
   "source": [
    "num_rows = dataframe_all.shape[0]\n",
    "\n",
    "# Total number of matches.\n",
    "n_matches = dataframe_all.shape[0]\n",
    "\n",
    "# Calculate number of features. -1 because we are saving one as the target variable (win/lose/draw)\n",
    "n_features = dataframe_all.shape[1] - 1\n",
    "\n",
    "\n",
    "\n",
    "# Print the results\n",
    "print \"Total number of cases: {}\".format(num_rows)\n",
    "print \"Number of features: {}\".format(n_features)\n",
    "\n",
    "columns = dataframe_all.columns\n",
    "print(columns)\n"
   ]
  },
  {
   "cell_type": "code",
   "execution_count": 6,
   "metadata": {},
   "outputs": [
    {
     "name": "stdout",
     "output_type": "stream",
     "text": [
      "Rate : 26.8465909091\n"
     ]
    }
   ],
   "source": [
    "# Checking if it is a long tail distribution\n",
    "n_YES = len(dataframe_all[dataframe_all.ASD == 'YES'])\n",
    "rate = (float(n_YES) / (num_rows)) * 100\n",
    "print \"Rate : {}\".format(rate)"
   ]
  },
  {
   "cell_type": "code",
   "execution_count": 10,
   "metadata": {},
   "outputs": [
    {
     "data": {
      "text/plain": [
       "array([[<matplotlib.axes._subplots.AxesSubplot object at 0x7f0ba0f4e3d0>,\n",
       "        <matplotlib.axes._subplots.AxesSubplot object at 0x7f0b9cfff9d0>,\n",
       "        <matplotlib.axes._subplots.AxesSubplot object at 0x7f0b9cdb2b90>,\n",
       "        <matplotlib.axes._subplots.AxesSubplot object at 0x7f0b9cda7910>,\n",
       "        <matplotlib.axes._subplots.AxesSubplot object at 0x7f0b9cd40450>,\n",
       "        <matplotlib.axes._subplots.AxesSubplot object at 0x7f0ba11cc250>],\n",
       "       [<matplotlib.axes._subplots.AxesSubplot object at 0x7f0b9dfe2150>,\n",
       "        <matplotlib.axes._subplots.AxesSubplot object at 0x7f0b9f12d4d0>,\n",
       "        <matplotlib.axes._subplots.AxesSubplot object at 0x7f0b9ff30d10>,\n",
       "        <matplotlib.axes._subplots.AxesSubplot object at 0x7f0ba10e5a50>,\n",
       "        <matplotlib.axes._subplots.AxesSubplot object at 0x7f0b9cc382d0>,\n",
       "        <matplotlib.axes._subplots.AxesSubplot object at 0x7f0b9cbb24d0>],\n",
       "       [<matplotlib.axes._subplots.AxesSubplot object at 0x7f0b9cb8dd50>,\n",
       "        <matplotlib.axes._subplots.AxesSubplot object at 0x7f0b9cb09e50>,\n",
       "        <matplotlib.axes._subplots.AxesSubplot object at 0x7f0b9ca748d0>,\n",
       "        <matplotlib.axes._subplots.AxesSubplot object at 0x7f0b9c9f2d50>,\n",
       "        <matplotlib.axes._subplots.AxesSubplot object at 0x7f0b9ca36550>,\n",
       "        <matplotlib.axes._subplots.AxesSubplot object at 0x7f0b9c96d990>],\n",
       "       [<matplotlib.axes._subplots.AxesSubplot object at 0x7f0b9c875810>,\n",
       "        <matplotlib.axes._subplots.AxesSubplot object at 0x7f0b9c867510>,\n",
       "        <matplotlib.axes._subplots.AxesSubplot object at 0x7f0b9c7ee390>,\n",
       "        <matplotlib.axes._subplots.AxesSubplot object at 0x7f0b9c754c10>,\n",
       "        <matplotlib.axes._subplots.AxesSubplot object at 0x7f0b9c6dbc50>,\n",
       "        <matplotlib.axes._subplots.AxesSubplot object at 0x7f0b9c650350>],\n",
       "       [<matplotlib.axes._subplots.AxesSubplot object at 0x7f0b9c5d7510>,\n",
       "        <matplotlib.axes._subplots.AxesSubplot object at 0x7f0b9c53ce90>,\n",
       "        <matplotlib.axes._subplots.AxesSubplot object at 0x7f0b9c4d0190>,\n",
       "        <matplotlib.axes._subplots.AxesSubplot object at 0x7f0b9c55bb90>,\n",
       "        <matplotlib.axes._subplots.AxesSubplot object at 0x7f0b9c3bce50>,\n",
       "        <matplotlib.axes._subplots.AxesSubplot object at 0x7f0b9c379ed0>],\n",
       "       [<matplotlib.axes._subplots.AxesSubplot object at 0x7f0b9c2b79d0>,\n",
       "        <matplotlib.axes._subplots.AxesSubplot object at 0x7f0b9c23f850>,\n",
       "        <matplotlib.axes._subplots.AxesSubplot object at 0x7f0b9c1b2310>,\n",
       "        <matplotlib.axes._subplots.AxesSubplot object at 0x7f0b9c139250>,\n",
       "        <matplotlib.axes._subplots.AxesSubplot object at 0x7f0b9c11ec90>,\n",
       "        <matplotlib.axes._subplots.AxesSubplot object at 0x7f0b9c0a5d90>]], dtype=object)"
      ]
     },
     "execution_count": 10,
     "metadata": {},
     "output_type": "execute_result"
    },
    {
     "data": {
      "image/png": "[encoded data removed]",
      "text/plain": [
       "<matplotlib.figure.Figure at 0x7f0b9cf45090>"
      ]
     },
     "metadata": {},
     "output_type": "display_data"
    }
   ],
   "source": [
    "# Visualising distribution of data\n",
    "from pandas.plotting import scatter_matrix\n",
    "features=['A1_Score','A2_Score','A3_Score','A4_Score','A5_Score','result']\n",
    "scatter_matrix(dataframe_all[features], figsize=(10,10))"
   ]
  },
  {
   "cell_type": "code",
   "execution_count": 11,
   "metadata": {},
   "outputs": [
    {
     "data": {
      "text/plain": [
       "array([[<matplotlib.axes._subplots.AxesSubplot object at 0x7f0b9cd9cd10>,\n",
       "        <matplotlib.axes._subplots.AxesSubplot object at 0x7f0b9bb26c10>,\n",
       "        <matplotlib.axes._subplots.AxesSubplot object at 0x7f0b9baab5d0>,\n",
       "        <matplotlib.axes._subplots.AxesSubplot object at 0x7f0b9ba11110>,\n",
       "        <matplotlib.axes._subplots.AxesSubplot object at 0x7f0b9b993150>,\n",
       "        <matplotlib.axes._subplots.AxesSubplot object at 0x7f0b9b8f9810>],\n",
       "       [<matplotlib.axes._subplots.AxesSubplot object at 0x7f0b9b8809d0>,\n",
       "        <matplotlib.axes._subplots.AxesSubplot object at 0x7f0b9b7f2390>,\n",
       "        <matplotlib.axes._subplots.AxesSubplot object at 0x7f0b9b778650>,\n",
       "        <matplotlib.axes._subplots.AxesSubplot object at 0x7f0b9b804dd0>,\n",
       "        <matplotlib.axes._subplots.AxesSubplot object at 0x7f0b9b6e6ad0>,\n",
       "        <matplotlib.axes._subplots.AxesSubplot object at 0x7f0b9b66bb10>],\n",
       "       [<matplotlib.axes._subplots.AxesSubplot object at 0x7f0b9b5deed0>,\n",
       "        <matplotlib.axes._subplots.AxesSubplot object at 0x7f0b9b563e50>,\n",
       "        <matplotlib.axes._subplots.AxesSubplot object at 0x7f0b9b4d76d0>,\n",
       "        <matplotlib.axes._subplots.AxesSubplot object at 0x7f0b9b45d710>,\n",
       "        <matplotlib.axes._subplots.AxesSubplot object at 0x7f0b9b3c3ed0>,\n",
       "        <matplotlib.axes._subplots.AxesSubplot object at 0x7f0b9b3590d0>],\n",
       "       [<matplotlib.axes._subplots.AxesSubplot object at 0x7f0b9b2bda50>,\n",
       "        <matplotlib.axes._subplots.AxesSubplot object at 0x7f0b9b246d10>,\n",
       "        <matplotlib.axes._subplots.AxesSubplot object at 0x7f0b9b2d9550>,\n",
       "        <matplotlib.axes._subplots.AxesSubplot object at 0x7f0b9b13ea10>,\n",
       "        <matplotlib.axes._subplots.AxesSubplot object at 0x7f0b9b16fc10>,\n",
       "        <matplotlib.axes._subplots.AxesSubplot object at 0x7f0b9b039590>],\n",
       "       [<matplotlib.axes._subplots.AxesSubplot object at 0x7f0b9afc0410>,\n",
       "        <matplotlib.axes._subplots.AxesSubplot object at 0x7f0b9afa4e90>,\n",
       "        <matplotlib.axes._subplots.AxesSubplot object at 0x7f0b9af2ddd0>,\n",
       "        <matplotlib.axes._subplots.AxesSubplot object at 0x7f0b9ae9f850>,\n",
       "        <matplotlib.axes._subplots.AxesSubplot object at 0x7f0b9ae26950>,\n",
       "        <matplotlib.axes._subplots.AxesSubplot object at 0x7f0b9b46eb90>],\n",
       "       [<matplotlib.axes._subplots.AxesSubplot object at 0x7f0b9cb43fd0>,\n",
       "        <matplotlib.axes._subplots.AxesSubplot object at 0x7f0b9cc71210>,\n",
       "        <matplotlib.axes._subplots.AxesSubplot object at 0x7f0b9acd27d0>,\n",
       "        <matplotlib.axes._subplots.AxesSubplot object at 0x7f0b9ac5b650>,\n",
       "        <matplotlib.axes._subplots.AxesSubplot object at 0x7f0b9abce350>,\n",
       "        <matplotlib.axes._subplots.AxesSubplot object at 0x7f0b9ab551d0>]], dtype=object)"
      ]
     },
     "execution_count": 11,
     "metadata": {},
     "output_type": "execute_result"
    },
    {
     "data": {
      "image/png": "[encoded data removed]",
      "text/plain": [
       "<matplotlib.figure.Figure at 0x7f0b9bfdc110>"
      ]
     },
     "metadata": {},
     "output_type": "display_data"
    }
   ],
   "source": [
    "features=['A6_Score','A7_Score','A8_Score','A9_Score','A10_Score','result']\n",
    "scatter_matrix(dataframe_all[features], figsize=(10,10))"
   ]
  },
  {
   "cell_type": "code",
   "execution_count": 12,
   "metadata": {},
   "outputs": [
    {
     "data": {
      "text/plain": [
       "array([[<matplotlib.axes._subplots.AxesSubplot object at 0x7f0ba77c8850>]], dtype=object)"
      ]
     },
     "execution_count": 12,
     "metadata": {},
     "output_type": "execute_result"
    },
    {
     "data": {
      "image/png": "[encoded data removed]",
      "text/plain": [
       "<matplotlib.figure.Figure at 0x7f0b9a5dbad0>"
      ]
     },
     "metadata": {},
     "output_type": "display_data"
    }
   ],
   "source": [
    "features=['age','gender','jundice','austim','ethnicity','contry_of_res','result']\n",
    "scatter_matrix(dataframe_all[features], figsize=(10,10))"
   ]
  }
 ],
 "metadata": {
  "kernelspec": {
   "display_name": "Python 2",
   "language": "python",
   "name": "python2"
  },
  "language_info": {
   "codemirror_mode": {
    "name": "ipython",
    "version": 2
   },
   "file_extension": ".py",
   "mimetype": "text/x-python",
   "name": "python",
   "nbconvert_exporter": "python",
   "pygments_lexer": "ipython2",
   "version": "2.7.13"
  }
 },
 "nbformat": 4,
 "nbformat_minor": 2
}
